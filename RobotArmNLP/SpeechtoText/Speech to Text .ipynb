{
 "cells": [
  {
   "cell_type": "code",
   "execution_count": 7,
   "id": "wrong-thousand",
   "metadata": {},
   "outputs": [
    {
     "name": "stdout",
     "output_type": "stream",
     "text": [
      "Say something!\n",
      "move the Knight forward\n"
     ]
    }
   ],
   "source": [
    "import speech_recognition as sr\n",
    "\n",
    "r = sr.Recognizer()\n",
    "with sr.Microphone() as source: \n",
    "\tprint(\"Say something!\")\n",
    "\taudio = r.listen(source, phrase_time_limit=10)\n",
    "\n",
    "#recognize speech using Google Speech Recognition \n",
    "try:\n",
    "\t#for testing purposes we are just using the default API key \n",
    "\t# to use another API key, use 'r.recognize_google(audio, key=:\"GOOGLE_SPEECH_RECOGNITION_API')\n",
    "\t# instead of 'r.recognize_google(audio)'\n",
    "\tprint(r.recognize_google(audio))\n",
    "except sr.UnknownValueError:\n",
    "\tprint(\"Google Speech Recognition could not understand audio\")\n",
    "except sr.RequestError as e:\n",
    "\tprint(\"Could not request results from Google Speech Recognition service; {0}\".format(e))\n",
    "\t"
   ]
  }
 ],
 "metadata": {
  "kernelspec": {
   "display_name": "robotarm",
   "language": "python",
   "name": "robotarm"
  },
  "language_info": {
   "codemirror_mode": {
    "name": "ipython",
    "version": 3
   },
   "file_extension": ".py",
   "mimetype": "text/x-python",
   "name": "python",
   "nbconvert_exporter": "python",
   "pygments_lexer": "ipython3",
   "version": "3.6.9"
  }
 },
 "nbformat": 4,
 "nbformat_minor": 5
}
